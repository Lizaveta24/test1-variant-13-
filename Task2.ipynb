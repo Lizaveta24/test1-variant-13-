{
  "nbformat": 4,
  "nbformat_minor": 0,
  "metadata": {
    "colab": {
      "name": "Untitled11.ipynb",
      "version": "0.3.2",
      "provenance": []
    },
    "kernelspec": {
      "name": "python3",
      "display_name": "Python 3"
    }
  },
  "cells": [
    {
      "metadata": {
        "id": "h5v136iUOQFL",
        "colab_type": "code",
        "colab": {}
      },
      "cell_type": "code",
      "source": [
        "import keras.models"
      ],
      "execution_count": 0,
      "outputs": []
    },
    {
      "metadata": {
        "id": "JoMUkoToOfD8",
        "colab_type": "code",
        "colab": {}
      },
      "cell_type": "code",
      "source": [
        "import keras.layers"
      ],
      "execution_count": 0,
      "outputs": []
    },
    {
      "metadata": {
        "id": "AinARYgxOi0U",
        "colab_type": "code",
        "colab": {}
      },
      "cell_type": "code",
      "source": [
        "import pandas as pd"
      ],
      "execution_count": 0,
      "outputs": []
    },
    {
      "metadata": {
        "id": "VkvUFpdhOk9L",
        "colab_type": "code",
        "colab": {}
      },
      "cell_type": "code",
      "source": [
        "data = pd.read_csv(\"data2.csv\")"
      ],
      "execution_count": 0,
      "outputs": []
    },
    {
      "metadata": {
        "id": "mgDPz4LKOyoa",
        "colab_type": "code",
        "colab": {}
      },
      "cell_type": "code",
      "source": [
        "x = data.loc[0:199, ['2','4']]"
      ],
      "execution_count": 0,
      "outputs": []
    },
    {
      "metadata": {
        "id": "6u667qgJO4aT",
        "colab_type": "code",
        "colab": {}
      },
      "cell_type": "code",
      "source": [
        "y = data.loc[0:199, ['6']]"
      ],
      "execution_count": 0,
      "outputs": []
    },
    {
      "metadata": {
        "id": "2Xby-0b_QH_r",
        "colab_type": "code",
        "colab": {}
      },
      "cell_type": "code",
      "source": [
        "from sklearn.model_selection import train_test_split\n",
        "x_train, x_test, y_train, y_test = train_test_split(x,y,test_size=0.05, random_state =42)"
      ],
      "execution_count": 0,
      "outputs": []
    },
    {
      "metadata": {
        "id": "3Tc2aGSeQQBE",
        "colab_type": "code",
        "colab": {}
      },
      "cell_type": "code",
      "source": [
        "model = keras.models.Sequential()"
      ],
      "execution_count": 0,
      "outputs": []
    },
    {
      "metadata": {
        "id": "fmUsTyxWQkaz",
        "colab_type": "code",
        "colab": {}
      },
      "cell_type": "code",
      "source": [
        "model.add(keras.layers.Dense(2,input_shape=(2,),activation='linear'))"
      ],
      "execution_count": 0,
      "outputs": []
    },
    {
      "metadata": {
        "id": "rpD0Y6hqQuGD",
        "colab_type": "code",
        "colab": {}
      },
      "cell_type": "code",
      "source": [
        "model.add(keras.layers.Dense(64,activation='elu'))"
      ],
      "execution_count": 0,
      "outputs": []
    },
    {
      "metadata": {
        "id": "iNEG1TEyQ9uL",
        "colab_type": "code",
        "colab": {}
      },
      "cell_type": "code",
      "source": [
        "model.add(keras.layers.Dense(48,activation='linear'))"
      ],
      "execution_count": 0,
      "outputs": []
    },
    {
      "metadata": {
        "id": "YphomM2sRDOs",
        "colab_type": "code",
        "colab": {}
      },
      "cell_type": "code",
      "source": [
        "model.add(keras.layers.Dense(32,activation='elu'))"
      ],
      "execution_count": 0,
      "outputs": []
    },
    {
      "metadata": {
        "id": "NRKK0UzVRFjs",
        "colab_type": "code",
        "colab": {}
      },
      "cell_type": "code",
      "source": [
        "model.add(keras.layers.Dense(16,activation='elu'))"
      ],
      "execution_count": 0,
      "outputs": []
    },
    {
      "metadata": {
        "id": "GMgPd0EcRH6k",
        "colab_type": "code",
        "colab": {}
      },
      "cell_type": "code",
      "source": [
        "model.add(keras.layers.Dense(1,activation='elu'))"
      ],
      "execution_count": 0,
      "outputs": []
    },
    {
      "metadata": {
        "id": "fCqXUqBrRJ4M",
        "colab_type": "code",
        "colab": {}
      },
      "cell_type": "code",
      "source": [
        "model.compile(loss='mean_squared_error', optimizer = 'Adam', metrics = ['mean_squared_error'])"
      ],
      "execution_count": 0,
      "outputs": []
    },
    {
      "metadata": {
        "id": "dkJBWbmPRb1m",
        "colab_type": "code",
        "outputId": "2bce0d17-878d-4a10-acc8-652a74604783",
        "colab": {
          "base_uri": "https://localhost:8080/",
          "height": 399
        }
      },
      "cell_type": "code",
      "source": [
        "model.fit(x_train,y_train,epochs = 10, batch_size=200, verbose = 1, shuffle = True)"
      ],
      "execution_count": 83,
      "outputs": [
        {
          "output_type": "stream",
          "text": [
            "Epoch 1/10\n",
            "189/189 [==============================] - 0s 45us/step - loss: 0.0022 - mean_squared_error: 0.0022\n",
            "Epoch 2/10\n",
            "189/189 [==============================] - 0s 23us/step - loss: 0.0022 - mean_squared_error: 0.0022\n",
            "Epoch 3/10\n",
            "189/189 [==============================] - 0s 12us/step - loss: 0.0022 - mean_squared_error: 0.0022\n",
            "Epoch 4/10\n",
            "189/189 [==============================] - 0s 10us/step - loss: 0.0022 - mean_squared_error: 0.0022\n",
            "Epoch 5/10\n",
            "189/189 [==============================] - 0s 11us/step - loss: 0.0022 - mean_squared_error: 0.0022\n",
            "Epoch 6/10\n",
            "189/189 [==============================] - 0s 10us/step - loss: 0.0022 - mean_squared_error: 0.0022\n",
            "Epoch 7/10\n",
            "189/189 [==============================] - 0s 10us/step - loss: 0.0022 - mean_squared_error: 0.0022\n",
            "Epoch 8/10\n",
            "189/189 [==============================] - 0s 11us/step - loss: 0.0022 - mean_squared_error: 0.0022\n",
            "Epoch 9/10\n",
            "189/189 [==============================] - 0s 22us/step - loss: 0.0022 - mean_squared_error: 0.0022\n",
            "Epoch 10/10\n",
            "189/189 [==============================] - 0s 13us/step - loss: 0.0022 - mean_squared_error: 0.0022\n"
          ],
          "name": "stdout"
        },
        {
          "output_type": "execute_result",
          "data": {
            "text/plain": [
              "<keras.callbacks.History at 0x7f38b9a66710>"
            ]
          },
          "metadata": {
            "tags": []
          },
          "execution_count": 83
        }
      ]
    },
    {
      "metadata": {
        "id": "xCZZSZDVSdNz",
        "colab_type": "code",
        "outputId": "d879bab5-a3fd-4070-eae4-343d9e1b4d09",
        "colab": {
          "base_uri": "https://localhost:8080/",
          "height": 35
        }
      },
      "cell_type": "code",
      "source": [
        "scores = model.evaluate(x_train, y_train)"
      ],
      "execution_count": 0,
      "outputs": [
        {
          "output_type": "stream",
          "text": [
            "189/189 [==============================] - 0s 757us/step\n"
          ],
          "name": "stdout"
        }
      ]
    },
    {
      "metadata": {
        "id": "P5YbvQfhV0fN",
        "colab_type": "code",
        "outputId": "36623e06-5160-43b0-8482-6b574b89af8e",
        "colab": {
          "base_uri": "https://localhost:8080/",
          "height": 35
        }
      },
      "cell_type": "code",
      "source": [
        "print(model.metrics_names[1], scores[1])"
      ],
      "execution_count": 0,
      "outputs": [
        {
          "output_type": "stream",
          "text": [
            "mean_squared_error 46938.25584904101\n"
          ],
          "name": "stdout"
        }
      ]
    },
    {
      "metadata": {
        "id": "gmKtDA-sWAWU",
        "colab_type": "code",
        "colab": {}
      },
      "cell_type": "code",
      "source": [
        "result_train=model.predict(x_train)"
      ],
      "execution_count": 0,
      "outputs": []
    },
    {
      "metadata": {
        "id": "4bLoDvOXWGu0",
        "colab_type": "code",
        "colab": {
          "base_uri": "https://localhost:8080/",
          "height": 35
        },
        "outputId": "0abe8e7c-575e-4eef-88d2-adecc529ef0f"
      },
      "cell_type": "code",
      "source": [
        "scores = model.evaluate(x_test,y_test)"
      ],
      "execution_count": 84,
      "outputs": [
        {
          "output_type": "stream",
          "text": [
            "\r10/10 [==============================] - 0s 102us/step\n"
          ],
          "name": "stdout"
        }
      ]
    },
    {
      "metadata": {
        "id": "5zUnTvPHaQbm",
        "colab_type": "code",
        "colab": {
          "base_uri": "https://localhost:8080/",
          "height": 35
        },
        "outputId": "44f22a22-2767-42a1-e193-9a12dd5dc9e7"
      },
      "cell_type": "code",
      "source": [
        "print(model.metrics_names[1],scores[1])"
      ],
      "execution_count": 85,
      "outputs": [
        {
          "output_type": "stream",
          "text": [
            "mean_squared_error 0.015320760197937489\n"
          ],
          "name": "stdout"
        }
      ]
    },
    {
      "metadata": {
        "id": "eedpzoJ9aWUl",
        "colab_type": "code",
        "colab": {}
      },
      "cell_type": "code",
      "source": [
        "result_test=model.predict(x_test)"
      ],
      "execution_count": 0,
      "outputs": []
    },
    {
      "metadata": {
        "id": "wGLpXE_LaaT-",
        "colab_type": "code",
        "colab": {}
      },
      "cell_type": "code",
      "source": [
        "error_test=model.predict(x_test)-y_test"
      ],
      "execution_count": 0,
      "outputs": []
    },
    {
      "metadata": {
        "id": "7pPqKtlfafz1",
        "colab_type": "code",
        "colab": {
          "base_uri": "https://localhost:8080/",
          "height": 217
        },
        "outputId": "01ac371a-9929-4d3f-eba6-f6f9f54af765"
      },
      "cell_type": "code",
      "source": [
        "print('Error test'+str(error_test))"
      ],
      "execution_count": 88,
      "outputs": [
        {
          "output_type": "stream",
          "text": [
            "Error test            6\n",
            "82  -0.004272\n",
            "15   0.008286\n",
            "111  0.032219\n",
            "177 -0.101608\n",
            "76   0.005066\n",
            "163 -0.376236\n",
            "68   0.010773\n",
            "67   0.005569\n",
            "120  0.003174\n",
            "173  0.004700\n"
          ],
          "name": "stdout"
        }
      ]
    },
    {
      "metadata": {
        "id": "7OPAmon5alN1",
        "colab_type": "code",
        "colab": {}
      },
      "cell_type": "code",
      "source": [
        ""
      ],
      "execution_count": 0,
      "outputs": []
    }
  ]
}